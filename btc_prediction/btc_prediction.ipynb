{
 "cells": [
  {
   "cell_type": "code",
   "execution_count": 1,
   "metadata": {},
   "outputs": [],
   "source": [
    "import numpy as np\n",
    "import pandas as pd\n",
    "import matplotlib.pyplot as plt\n",
    "from sklearn.linear_model import LinearRegression\n",
    "from sklearn.preprocessing import PolynomialFeatures\n",
    "from sklearn.model_selection import train_test_split\n",
    "from sklearn.metrics import mean_absolute_error, mean_squared_error, r2_score\n",
    "from sklearn.preprocessing import PolynomialFeatures\n",
    "from sklearn.pipeline import make_pipeline"
   ]
  },
  {
   "cell_type": "code",
   "execution_count": 2,
   "metadata": {},
   "outputs": [],
   "source": [
    "np.random.seed()\n",
    "filename = '/notebooks/ML Project/BTC_USD_2013-10-01_2021-03-11-CoinDesk.csv'"
   ]
  },
  {
   "cell_type": "code",
   "execution_count": 3,
   "metadata": {
    "scrolled": true
   },
   "outputs": [
    {
     "data": {
      "text/html": [
       "<div>\n",
       "<style scoped>\n",
       "    .dataframe tbody tr th:only-of-type {\n",
       "        vertical-align: middle;\n",
       "    }\n",
       "\n",
       "    .dataframe tbody tr th {\n",
       "        vertical-align: top;\n",
       "    }\n",
       "\n",
       "    .dataframe thead th {\n",
       "        text-align: right;\n",
       "    }\n",
       "</style>\n",
       "<table border=\"1\" class=\"dataframe\">\n",
       "  <thead>\n",
       "    <tr style=\"text-align: right;\">\n",
       "      <th></th>\n",
       "      <th>Closing Price (USD)</th>\n",
       "      <th>24h Open (USD)</th>\n",
       "      <th>24h High (USD)</th>\n",
       "      <th>24h Low (USD)</th>\n",
       "    </tr>\n",
       "  </thead>\n",
       "  <tbody>\n",
       "    <tr>\n",
       "      <th>count</th>\n",
       "      <td>2708.000000</td>\n",
       "      <td>2708.000000</td>\n",
       "      <td>2708.000000</td>\n",
       "      <td>2708.000000</td>\n",
       "    </tr>\n",
       "    <tr>\n",
       "      <th>mean</th>\n",
       "      <td>5282.045337</td>\n",
       "      <td>5262.201010</td>\n",
       "      <td>5427.581541</td>\n",
       "      <td>5092.311449</td>\n",
       "    </tr>\n",
       "    <tr>\n",
       "      <th>std</th>\n",
       "      <td>7618.912012</td>\n",
       "      <td>7566.088241</td>\n",
       "      <td>7860.711886</td>\n",
       "      <td>7266.787750</td>\n",
       "    </tr>\n",
       "    <tr>\n",
       "      <th>min</th>\n",
       "      <td>108.584830</td>\n",
       "      <td>108.584830</td>\n",
       "      <td>118.675000</td>\n",
       "      <td>83.328330</td>\n",
       "    </tr>\n",
       "    <tr>\n",
       "      <th>25%</th>\n",
       "      <td>454.224500</td>\n",
       "      <td>454.015870</td>\n",
       "      <td>459.737415</td>\n",
       "      <td>445.667000</td>\n",
       "    </tr>\n",
       "    <tr>\n",
       "      <th>50%</th>\n",
       "      <td>2496.242490</td>\n",
       "      <td>2478.113745</td>\n",
       "      <td>2579.400000</td>\n",
       "      <td>2373.386250</td>\n",
       "    </tr>\n",
       "    <tr>\n",
       "      <th>75%</th>\n",
       "      <td>8169.154650</td>\n",
       "      <td>8166.425639</td>\n",
       "      <td>8348.647101</td>\n",
       "      <td>7915.519672</td>\n",
       "    </tr>\n",
       "    <tr>\n",
       "      <th>max</th>\n",
       "      <td>57128.642606</td>\n",
       "      <td>57453.358009</td>\n",
       "      <td>58332.364616</td>\n",
       "      <td>55531.550703</td>\n",
       "    </tr>\n",
       "  </tbody>\n",
       "</table>\n",
       "</div>"
      ],
      "text/plain": [
       "       Closing Price (USD)  24h Open (USD)  24h High (USD)  24h Low (USD)\n",
       "count          2708.000000     2708.000000     2708.000000    2708.000000\n",
       "mean           5282.045337     5262.201010     5427.581541    5092.311449\n",
       "std            7618.912012     7566.088241     7860.711886    7266.787750\n",
       "min             108.584830      108.584830      118.675000      83.328330\n",
       "25%             454.224500      454.015870      459.737415     445.667000\n",
       "50%            2496.242490     2478.113745     2579.400000    2373.386250\n",
       "75%            8169.154650     8166.425639     8348.647101    7915.519672\n",
       "max           57128.642606    57453.358009    58332.364616   55531.550703"
      ]
     },
     "execution_count": 3,
     "metadata": {},
     "output_type": "execute_result"
    }
   ],
   "source": [
    "Data = np.genfromtxt(filename, delimiter=',',skip_header=1) # not necessary\n",
    "df = pd.read_csv(filename, sep = ',')\n",
    "df.describe()"
   ]
  },
  {
   "cell_type": "code",
   "execution_count": 4,
   "metadata": {},
   "outputs": [
    {
     "name": "stdout",
     "output_type": "stream",
     "text": [
      "     Currency        Date  Closing Price (USD)  24h Open (USD)  \\\n",
      "0         BTC  2013-10-01           123.654990      124.304660   \n",
      "1         BTC  2013-10-02           125.455000      123.654990   \n",
      "2         BTC  2013-10-03           108.584830      125.455000   \n",
      "3         BTC  2013-10-04           118.674660      108.584830   \n",
      "4         BTC  2013-10-05           121.338660      118.674660   \n",
      "...       ...         ...                  ...             ...   \n",
      "2703      BTC  2021-03-07         48879.151904    48791.790509   \n",
      "2704      BTC  2021-03-08         50594.698575    48887.566413   \n",
      "2705      BTC  2021-03-09         51503.258132    50948.880707   \n",
      "2706      BTC  2021-03-10         54458.037811    52360.748163   \n",
      "2707      BTC  2021-03-11         56915.173935    54924.686532   \n",
      "\n",
      "      24h High (USD)  24h Low (USD)  \n",
      "0         124.751660     122.563490  \n",
      "1         125.758500     123.633830  \n",
      "2         125.665660      83.328330  \n",
      "3         118.675000     107.058160  \n",
      "4         121.936330     118.005660  \n",
      "...              ...            ...  \n",
      "2703    49173.761874   47127.040971  \n",
      "2704    51222.872300   48887.566413  \n",
      "2705    51916.413946   49390.182715  \n",
      "2706    54804.078453   51865.590033  \n",
      "2707    57336.745413   53101.236372  \n",
      "\n",
      "[2708 rows x 6 columns]\n",
      "<class 'pandas.core.frame.DataFrame'>\n",
      "(2708, 6)\n",
      "[['BTC' '2013-10-01' 123.65498999999998 124.30466000000001\n",
      "  124.75166000000002 122.56348999999999]\n",
      " ['BTC' '2013-10-02' 125.455 123.65498999999998 125.7585 123.63383]\n",
      " ['BTC' '2013-10-03' 108.58483000000001 125.455 125.66566\n",
      "  83.32833000000001]\n",
      " ...\n",
      " ['BTC' '2021-03-09' 51503.2581321815 50948.880707449294\n",
      "  51916.413945601795 49390.182715295196]\n",
      " ['BTC' '2021-03-10' 54458.0378114244 52360.7481633466 54804.0784533568\n",
      "  51865.5900329546]\n",
      " ['BTC' '2021-03-11' 56915.1739350527 54924.6865322271 57336.7454125548\n",
      "  53101.2363718899]]\n",
      "<class 'numpy.ndarray'>\n",
      "(2708, 6)\n",
      "[['2013-10-01' 123.65498999999998]\n",
      " ['2013-10-02' 125.455]\n",
      " ['2013-10-03' 108.58483000000001]\n",
      " ...\n",
      " ['2021-03-09' 51503.2581321815]\n",
      " ['2021-03-10' 54458.0378114244]\n",
      " ['2021-03-11' 56915.1739350527]]\n",
      "<class 'numpy.ndarray'>\n",
      "(2708, 2)\n"
     ]
    }
   ],
   "source": [
    "\n",
    "print(df)\n",
    "print(type(df))\n",
    "print(df.shape)\n",
    "\n",
    "df = df.to_numpy() # not necessary\n",
    "print(df)\n",
    "print(type(df))\n",
    "print(df.shape)\n",
    "\n",
    "df = np.delete(df, [0,3,4,5], 1)\n",
    "print(df)\n",
    "print(type(df))\n",
    "print(df.shape)\n",
    "\n",
    "N = 7 # previous days as sepearete features\n",
    "M = 2695 # number of data points\n",
    "\n"
   ]
  },
  {
   "cell_type": "code",
   "execution_count": 5,
   "metadata": {},
   "outputs": [
    {
     "name": "stdout",
     "output_type": "stream",
     "text": [
      "[[  123.65499   125.455     108.58483 ...   120.65533   121.795\n",
      "    123.033  ]\n",
      " [  125.455     108.58483   118.67466 ...   121.795     123.033\n",
      "    124.049  ]\n",
      " [  108.58483   118.67466   121.33866 ...   123.033     124.049\n",
      "    125.96116]\n",
      " ...\n",
      " [48840.414   52165.3     51728.508   ... 57128.645   54181.914\n",
      "  48172.88   ]\n",
      " [52165.3     51728.508   55719.203   ... 54181.914   48172.88\n",
      "  48745.434  ]\n",
      " [51728.508   55719.203   54801.65    ... 48172.88    48745.434\n",
      "  48291.41   ]]\n"
     ]
    }
   ],
   "source": [
    "# PREPROCESS\n",
    "#######################################################\n",
    "# Features and Label array\n",
    "btcData = np.empty([M-N, N+1], dtype='float32')\n",
    "# Labels array\n",
    "# btcValues_y = np.empty([M-N, 1], dtype='float32')\n",
    "\n",
    "# print(btcValues_x)\n",
    "# print(btcValues_x.shape)\n",
    "# print(btcValues_y)\n",
    "# print(btcValues_y.shape)\n",
    "\n",
    "# Create features array from df\n",
    "for i in range(0, M-N):\n",
    "    for j in range(i, i+N):\n",
    "        btcData[i][j-i] = df[j][1]\n",
    "    btcData[i][N] = df[i+N][1]\n",
    "    \n",
    "print(btcData)\n",
    "#print(btcValues_y)\n",
    "\n",
    "#######################################################\n",
    "\n"
   ]
  },
  {
   "cell_type": "code",
   "execution_count": 6,
   "metadata": {},
   "outputs": [],
   "source": [
    "#shuffle the data\n",
    "np.random.seed()\n",
    "np.random.shuffle(btcData)"
   ]
  },
  {
   "cell_type": "code",
   "execution_count": 7,
   "metadata": {},
   "outputs": [
    {
     "name": "stdout",
     "output_type": "stream",
     "text": [
      "[[ 1189.366    1189.947    1193.611   ...  1285.376    1260.668\n",
      "   1273.247  ]\n",
      " [  472.91      519.015     508.12875 ...   503.32126   504.62625\n",
      "    513.39124]\n",
      " [47005.19    49151.168   48125.992   ... 51728.508   55719.203\n",
      "  54801.65   ]\n",
      " ...\n",
      " [ 1036.099    1013.844     921.808   ...  1035.322    1011.969\n",
      "   1041.374  ]\n",
      " [  613.675     623.6       620.59875 ...   607.03625   606.885\n",
      "    606.8975 ]\n",
      " [  632.9533    630.3483    617.24335 ...   581.3333    570.3617\n",
      "    562.9533 ]]\n"
     ]
    }
   ],
   "source": [
    "print(btcData)\n",
    "Y = btcData[:,N] #target vector\n",
    "X = btcData[:,:N] #matrix of features"
   ]
  },
  {
   "cell_type": "code",
   "execution_count": 8,
   "metadata": {},
   "outputs": [
    {
     "name": "stdout",
     "output_type": "stream",
     "text": [
      "[[ 1189.366    1189.947    1193.611   ...  1269.776    1285.376\n",
      "   1260.668  ]\n",
      " [  472.91      519.015     508.12875 ...   501.63126   503.32126\n",
      "    504.62625]\n",
      " [47005.19    49151.168   48125.992   ... 52165.3     51728.508\n",
      "  55719.203  ]\n",
      " ...\n",
      " [ 1036.099    1013.844     921.808   ...   968.293    1035.322\n",
      "   1011.969  ]\n",
      " [  613.675     623.6       620.59875 ...   604.8275    607.03625\n",
      "    606.885  ]\n",
      " [  632.9533    630.3483    617.24335 ...   601.015     581.3333\n",
      "    570.3617 ]]\n",
      "[ 1273.247     513.39124 54801.65    ...  1041.374     606.8975\n",
      "   562.9533 ]\n"
     ]
    }
   ],
   "source": [
    "print(X)\n",
    "print(Y)"
   ]
  },
  {
   "cell_type": "code",
   "execution_count": 9,
   "metadata": {},
   "outputs": [
    {
     "name": "stdout",
     "output_type": "stream",
     "text": [
      "1076 1076\n",
      "538 538\n",
      "1612 1612\n",
      "538 538\n"
     ]
    }
   ],
   "source": [
    "# Split Data  Train + (Valid+Test)\n",
    "X_train, X_tmp, y_train, y_tmp = train_test_split(X, Y, test_size = 0.4, random_state = 42)\n",
    "X_test, X_valid, y_test, y_valid = train_test_split(X_tmp, y_tmp, test_size = 0.5, random_state = 42)\n",
    "\n",
    "print(len(X_tmp), len(y_tmp))\n",
    "print(len(X_test), len(y_test))\n",
    "print(len(X_train), len(y_train))\n",
    "print(len(X_valid), len(y_valid))"
   ]
  },
  {
   "cell_type": "code",
   "execution_count": 10,
   "metadata": {},
   "outputs": [
    {
     "name": "stdout",
     "output_type": "stream",
     "text": [
      "[[7363.2764  7490.621   7518.3335  ... 7716.145   7505.5894  7624.188  ]\n",
      " [3807.153   3587.1982  3865.5293  ... 3715.5645  3882.3047  3795.5928 ]\n",
      " [8237.343   8250.395   8493.131   ... 7951.5137  7614.964   7599.9526 ]\n",
      " ...\n",
      " [7436.835   7296.7964  7383.2173  ... 7491.6113  7363.2764  7490.621  ]\n",
      " [ 421.244    433.401    425.502   ...  436.426    434.001    419.254  ]\n",
      " [ 267.4691   274.25323  279.97906 ...  284.286    287.8309   300.53568]]\n",
      "[6780.341  3812.381  7436.835  ... 7518.3335  421.597   304.3269]\n"
     ]
    }
   ],
   "source": [
    "print(X_train)\n",
    "print(y_train)"
   ]
  },
  {
   "cell_type": "code",
   "execution_count": 11,
   "metadata": {},
   "outputs": [
    {
     "data": {
      "text/plain": [
       "LinearRegression()"
      ]
     },
     "execution_count": 11,
     "metadata": {},
     "output_type": "execute_result"
    }
   ],
   "source": [
    "# Linear Regresssion\n",
    "#######################################################\n",
    "\n",
    "model_linear = LinearRegression()\n",
    "model_linear.fit(X_train, y_train)"
   ]
  },
  {
   "cell_type": "code",
   "execution_count": 12,
   "metadata": {},
   "outputs": [],
   "source": [
    "# Polynomial Regresssion\n",
    "#######################################################\n",
    "\n"
   ]
  },
  {
   "cell_type": "code",
   "execution_count": 13,
   "metadata": {},
   "outputs": [],
   "source": [
    "# DEGREE = 1\n",
    "\n",
    "model_poly1 = PolynomialFeatures(degree=1)\n",
    "X_train_poly1 = model_poly1.fit_transform(X_train)\n",
    "\n",
    "X_valid_poly1 = model_poly1.fit_transform(X_valid)\n",
    "\n",
    "polyReg1 = LinearRegression()\n",
    "polyReg1.fit(X_train_poly1, y_train)\n",
    "\n",
    "prediction_training_poly1 = polyReg1.predict(X_train_poly1)\n",
    "\n",
    "prediction_valid_poly1 = polyReg1.predict(X_valid_poly1)"
   ]
  },
  {
   "cell_type": "code",
   "execution_count": 14,
   "metadata": {},
   "outputs": [],
   "source": [
    "# DEGREE = 2\n",
    "\n",
    "model_poly2 = PolynomialFeatures(degree=2)\n",
    "X_train_poly2 = model_poly2.fit_transform(X_train)\n",
    "\n",
    "X_valid_poly2 = model_poly2.fit_transform(X_valid)\n",
    "\n",
    "polyReg2 = LinearRegression()\n",
    "polyReg2.fit(X_train_poly2, y_train)\n",
    "\n",
    "prediction_training_poly2 = polyReg2.predict(X_train_poly2)\n",
    "\n",
    "prediction_valid_poly2 = polyReg2.predict(X_valid_poly2)"
   ]
  },
  {
   "cell_type": "code",
   "execution_count": 15,
   "metadata": {},
   "outputs": [],
   "source": [
    "# DEGREE = 3\n",
    "\n",
    "model_poly3 = PolynomialFeatures(degree=3)\n",
    "X_train_poly3 = model_poly3.fit_transform(X_train)\n",
    "\n",
    "X_valid_poly3 = model_poly3.fit_transform(X_valid)\n",
    "\n",
    "polyReg3 = LinearRegression()\n",
    "polyReg3.fit(X_train_poly3, y_train)\n",
    "\n",
    "prediction_training_poly3 = polyReg3.predict(X_train_poly3)\n",
    "\n",
    "prediction_valid_poly3 = polyReg3.predict(X_valid_poly3)"
   ]
  },
  {
   "cell_type": "code",
   "execution_count": null,
   "metadata": {},
   "outputs": [],
   "source": []
  },
  {
   "cell_type": "code",
   "execution_count": null,
   "metadata": {},
   "outputs": [],
   "source": []
  },
  {
   "cell_type": "code",
   "execution_count": 16,
   "metadata": {},
   "outputs": [],
   "source": [
    "btc_y_predict = model_linear.predict(X_valid)\n",
    "btc_y_predict_training = model_linear.predict(X_train)\n"
   ]
  },
  {
   "cell_type": "code",
   "execution_count": 17,
   "metadata": {},
   "outputs": [
    {
     "name": "stdout",
     "output_type": "stream",
     "text": [
      "(1612, 7)\n",
      "(538, 7)\n",
      "[  560.195   7790.3213 11744.013   9148.445    597.585  48172.88\n",
      " 10829.505   9757.297   7303.406    985.9387]\n",
      "[  524.24445  7651.3813  11623.418    9143.084     591.78937 55893.293\n",
      " 10750.709    9321.279    7281.0366   1125.2765 ]\n"
     ]
    }
   ],
   "source": [
    "# The coefficients\n",
    "print(X_train.shape)\n",
    "print(X_valid.shape)\n",
    "\n",
    "\n",
    "print(y_valid[30:40])\n",
    "print(btc_y_predict[30:40])"
   ]
  },
  {
   "cell_type": "code",
   "execution_count": 18,
   "metadata": {},
   "outputs": [
    {
     "name": "stdout",
     "output_type": "stream",
     "text": [
      "Coefficients: \n",
      "\n",
      "Linear\n"
     ]
    },
    {
     "data": {
      "text/plain": [
       "array([-0.26601824,  0.20952088,  0.05074604, -0.02445187, -0.06705038,\n",
       "        0.1974884 ,  0.90623367], dtype=float32)"
      ]
     },
     "execution_count": 18,
     "metadata": {},
     "output_type": "execute_result"
    }
   ],
   "source": [
    "print('Coefficients: \\n')\n",
    "\n",
    "print('Linear')\n",
    "model_linear.coef_"
   ]
  },
  {
   "cell_type": "code",
   "execution_count": 19,
   "metadata": {},
   "outputs": [
    {
     "data": {
      "text/plain": [
       "-15.812012"
      ]
     },
     "execution_count": 19,
     "metadata": {},
     "output_type": "execute_result"
    }
   ],
   "source": [
    "model_linear.intercept_"
   ]
  },
  {
   "cell_type": "code",
   "execution_count": 20,
   "metadata": {},
   "outputs": [
    {
     "name": "stdout",
     "output_type": "stream",
     "text": [
      "Poly1\n"
     ]
    },
    {
     "data": {
      "text/plain": [
       "array([ 0.        , -0.26601866,  0.20952162,  0.05074392, -0.0244497 ,\n",
       "       -0.06704929,  0.19748959,  0.9062314 ], dtype=float32)"
      ]
     },
     "execution_count": 20,
     "metadata": {},
     "output_type": "execute_result"
    }
   ],
   "source": [
    "print('Poly1')\n",
    "polyReg1.coef_"
   ]
  },
  {
   "cell_type": "code",
   "execution_count": 21,
   "metadata": {},
   "outputs": [
    {
     "name": "stdout",
     "output_type": "stream",
     "text": [
      "Poly2\n"
     ]
    },
    {
     "data": {
      "text/plain": [
       "array([-8.3396560e-01,  1.9963312e-01,  2.6014661e-02, -2.3822007e-01,\n",
       "       -2.5421274e-01,  2.9094260e-02,  4.7240320e-01,  7.7308106e-01,\n",
       "        2.1734461e-04,  2.7640909e-04, -6.1002374e-04,  4.1959435e-04,\n",
       "        4.4073537e-04, -8.0316514e-04, -1.5176833e-04, -3.8204715e-04,\n",
       "        2.7491897e-04, -1.5461780e-03,  1.0720380e-03, -8.9259073e-04,\n",
       "        1.5438907e-03,  3.5227835e-04,  1.9683167e-03, -1.1755861e-03,\n",
       "       -2.2783875e-05, -1.0695048e-03, -9.3062222e-04,  3.2791123e-04,\n",
       "        9.9946931e-04, -3.4337491e-04, -2.5762618e-04, -1.2968481e-04,\n",
       "        4.9587339e-05, -2.3453310e-04,  1.2075007e-03, -6.0022622e-04],\n",
       "      dtype=float32)"
      ]
     },
     "execution_count": 21,
     "metadata": {},
     "output_type": "execute_result"
    }
   ],
   "source": [
    "print('Poly2')\n",
    "polyReg2.coef_"
   ]
  },
  {
   "cell_type": "code",
   "execution_count": 22,
   "metadata": {},
   "outputs": [
    {
     "name": "stdout",
     "output_type": "stream",
     "text": [
      "Poly3\n"
     ]
    },
    {
     "data": {
      "text/plain": [
       "array([ 1.51753682e-06, -3.36854873e-06, -2.49125520e-08,  5.69689469e-08,\n",
       "        1.73914554e-08,  1.88222771e-08,  7.48000950e-09,  1.27808875e-10,\n",
       "        2.43698582e-06,  2.58235696e-06,  2.50270887e-06,  2.49427421e-06,\n",
       "        2.35204880e-06,  2.53945291e-06,  2.60679417e-06,  2.75613615e-06,\n",
       "        2.68268445e-06,  2.67026280e-06,  2.51801771e-06,  2.70422379e-06,\n",
       "        2.76897390e-06,  2.62108119e-06,  2.61007199e-06,  2.46025525e-06,\n",
       "        2.64992309e-06,  2.71676845e-06,  2.61927789e-06,  2.47153707e-06,\n",
       "        2.66549091e-06,  2.72793341e-06,  2.33036189e-06,  2.52340783e-06,\n",
       "        2.58572845e-06,  2.72887337e-06,  2.79987580e-06,  2.87632020e-06,\n",
       "        6.70950158e-08,  2.27640658e-06, -3.02273133e-06, -6.97241092e-07,\n",
       "        1.17641707e-06, -1.87121805e-06,  1.98096677e-06, -2.74080708e-06,\n",
       "        3.57516114e-06, -1.45664330e-07, -1.30219951e-06,  2.02704246e-06,\n",
       "       -3.25511496e-06,  1.37720235e-07,  2.14820034e-07,  8.36460629e-07,\n",
       "        8.52974608e-07,  1.76823164e-07, -1.34838228e-06,  6.91910009e-06,\n",
       "       -3.04824880e-06,  1.69522707e-07, -6.40071312e-06,  6.19832144e-06,\n",
       "       -2.16163153e-06,  3.13859459e-07, -2.97323663e-06,  2.06647064e-06,\n",
       "        6.25062512e-07,  9.36575077e-07, -8.37905304e-07,  1.74710817e-06,\n",
       "       -3.60368858e-07, -4.93911102e-07, -5.06240804e-06,  5.40485371e-06,\n",
       "       -2.48254719e-06,  1.45758179e-06,  1.00128204e-07, -3.06711172e-08,\n",
       "       -7.34351488e-06,  1.80986149e-07,  3.59405703e-06,  7.04565537e-06,\n",
       "       -8.85832924e-06,  2.56041221e-06,  2.38539883e-06,  1.14362956e-06,\n",
       "       -1.65071287e-06,  3.39398775e-06, -2.58141381e-06, -1.46852426e-06,\n",
       "        5.93413802e-07, -1.43918123e-06, -1.26051157e-06,  3.59172282e-06,\n",
       "        1.22568758e-06, -2.86316913e-06, -1.36749213e-06, -1.61539106e-07,\n",
       "        3.47911600e-06, -2.61808850e-06,  1.02569209e-06,  3.74446813e-07,\n",
       "        9.63923412e-07,  6.67959739e-07, -2.60743286e-06,  1.59917238e-06,\n",
       "       -2.63231391e-06,  5.52805750e-06, -4.28779094e-06,  2.48432571e-07,\n",
       "        3.14731551e-07,  9.62924105e-08,  9.25957750e-07,  9.62298600e-07,\n",
       "       -6.06577487e-07, -2.95803693e-06,  1.49788934e-06,  3.54673659e-08,\n",
       "        2.23017651e-07,  1.95749067e-06, -2.44874741e-06,  5.11568089e-07],\n",
       "      dtype=float32)"
      ]
     },
     "execution_count": 22,
     "metadata": {},
     "output_type": "execute_result"
    }
   ],
   "source": [
    "print('Poly3')\n",
    "polyReg3.coef_"
   ]
  },
  {
   "cell_type": "code",
   "execution_count": null,
   "metadata": {},
   "outputs": [],
   "source": []
  },
  {
   "cell_type": "code",
   "execution_count": 23,
   "metadata": {},
   "outputs": [
    {
     "name": "stdout",
     "output_type": "stream",
     "text": [
      "Mean squared error <Training>: \n",
      "Linear\n"
     ]
    },
    {
     "data": {
      "text/plain": [
       "166259.27"
      ]
     },
     "execution_count": 23,
     "metadata": {},
     "output_type": "execute_result"
    }
   ],
   "source": [
    "print('Mean squared error <Training>: ')\n",
    "\n",
    "print('Linear')\n",
    "mean_squared_error(y_train, btc_y_predict_training)"
   ]
  },
  {
   "cell_type": "code",
   "execution_count": 24,
   "metadata": {},
   "outputs": [
    {
     "name": "stdout",
     "output_type": "stream",
     "text": [
      "Poly1\n"
     ]
    },
    {
     "data": {
      "text/plain": [
       "166259.23"
      ]
     },
     "execution_count": 24,
     "metadata": {},
     "output_type": "execute_result"
    }
   ],
   "source": [
    "print('Poly1')\n",
    "mean_squared_error(y_train, prediction_training_poly1)"
   ]
  },
  {
   "cell_type": "code",
   "execution_count": 25,
   "metadata": {},
   "outputs": [
    {
     "name": "stdout",
     "output_type": "stream",
     "text": [
      "Poly2\n"
     ]
    },
    {
     "data": {
      "text/plain": [
       "2930132.8"
      ]
     },
     "execution_count": 25,
     "metadata": {},
     "output_type": "execute_result"
    }
   ],
   "source": [
    "print('Poly2')\n",
    "mean_squared_error(y_train, prediction_training_poly2)"
   ]
  },
  {
   "cell_type": "code",
   "execution_count": 26,
   "metadata": {},
   "outputs": [
    {
     "name": "stdout",
     "output_type": "stream",
     "text": [
      "Poly3\n"
     ]
    },
    {
     "data": {
      "text/plain": [
       "12012907.0"
      ]
     },
     "execution_count": 26,
     "metadata": {},
     "output_type": "execute_result"
    }
   ],
   "source": [
    "print('Poly3')\n",
    "mean_squared_error(y_train, prediction_training_poly3)"
   ]
  },
  {
   "cell_type": "code",
   "execution_count": 27,
   "metadata": {},
   "outputs": [
    {
     "name": "stdout",
     "output_type": "stream",
     "text": [
      "Mean squared error <Valid>: \n",
      "Linear\n"
     ]
    },
    {
     "data": {
      "text/plain": [
       "316005.7"
      ]
     },
     "execution_count": 27,
     "metadata": {},
     "output_type": "execute_result"
    }
   ],
   "source": [
    "print('Mean squared error <Valid>: ')\n",
    "\n",
    "print('Linear')\n",
    "mean_squared_error(y_valid, btc_y_predict)"
   ]
  },
  {
   "cell_type": "code",
   "execution_count": 28,
   "metadata": {},
   "outputs": [
    {
     "name": "stdout",
     "output_type": "stream",
     "text": [
      "Poly1\n"
     ]
    },
    {
     "data": {
      "text/plain": [
       "316007.38"
      ]
     },
     "execution_count": 28,
     "metadata": {},
     "output_type": "execute_result"
    }
   ],
   "source": [
    "print('Poly1')\n",
    "mean_squared_error(y_valid, prediction_valid_poly1)"
   ]
  },
  {
   "cell_type": "code",
   "execution_count": 29,
   "metadata": {},
   "outputs": [
    {
     "name": "stdout",
     "output_type": "stream",
     "text": [
      "Poly2\n"
     ]
    },
    {
     "data": {
      "text/plain": [
       "1393093.8"
      ]
     },
     "execution_count": 29,
     "metadata": {},
     "output_type": "execute_result"
    }
   ],
   "source": [
    "print('Poly2')\n",
    "mean_squared_error(y_valid, prediction_valid_poly2)"
   ]
  },
  {
   "cell_type": "code",
   "execution_count": 30,
   "metadata": {},
   "outputs": [
    {
     "name": "stdout",
     "output_type": "stream",
     "text": [
      "Poly3\n"
     ]
    },
    {
     "data": {
      "text/plain": [
       "294644260.0"
      ]
     },
     "execution_count": 30,
     "metadata": {},
     "output_type": "execute_result"
    }
   ],
   "source": [
    "print('Poly3')\n",
    "mean_squared_error(y_valid, prediction_valid_poly3)"
   ]
  },
  {
   "cell_type": "code",
   "execution_count": 31,
   "metadata": {},
   "outputs": [
    {
     "name": "stdout",
     "output_type": "stream",
     "text": [
      "Coefficient of determination <Training>: \n",
      "Linear\n"
     ]
    },
    {
     "data": {
      "text/plain": [
       "0.9969374372065298"
      ]
     },
     "execution_count": 31,
     "metadata": {},
     "output_type": "execute_result"
    }
   ],
   "source": [
    "# The coefficient of determination: 1 is perfect prediction\n",
    "print('Coefficient of determination <Training>: ')\n",
    "\n",
    "print('Linear')\n",
    "r2_score(y_train, btc_y_predict_training)"
   ]
  },
  {
   "cell_type": "code",
   "execution_count": 32,
   "metadata": {},
   "outputs": [
    {
     "name": "stdout",
     "output_type": "stream",
     "text": [
      "Poly1\n"
     ]
    },
    {
     "data": {
      "text/plain": [
       "0.9969374375713302"
      ]
     },
     "execution_count": 32,
     "metadata": {},
     "output_type": "execute_result"
    }
   ],
   "source": [
    "print('Poly1')\n",
    "r2_score(y_train, prediction_training_poly1)"
   ]
  },
  {
   "cell_type": "code",
   "execution_count": 33,
   "metadata": {},
   "outputs": [
    {
     "name": "stdout",
     "output_type": "stream",
     "text": [
      "Poly2\n"
     ]
    },
    {
     "data": {
      "text/plain": [
       "0.9460257684396932"
      ]
     },
     "execution_count": 33,
     "metadata": {},
     "output_type": "execute_result"
    }
   ],
   "source": [
    "print('Poly2')\n",
    "r2_score(y_train, prediction_training_poly2)"
   ]
  },
  {
   "cell_type": "code",
   "execution_count": 34,
   "metadata": {},
   "outputs": [
    {
     "name": "stdout",
     "output_type": "stream",
     "text": [
      "Poly3\n"
     ]
    },
    {
     "data": {
      "text/plain": [
       "0.7787173809834796"
      ]
     },
     "execution_count": 34,
     "metadata": {},
     "output_type": "execute_result"
    }
   ],
   "source": [
    "print('Poly3')\n",
    "r2_score(y_train, prediction_training_poly3)"
   ]
  },
  {
   "cell_type": "code",
   "execution_count": 35,
   "metadata": {},
   "outputs": [
    {
     "name": "stdout",
     "output_type": "stream",
     "text": [
      "Coefficient of determination <Valid>: \n",
      "Linear\n"
     ]
    },
    {
     "data": {
      "text/plain": [
       "0.9932259446833832"
      ]
     },
     "execution_count": 35,
     "metadata": {},
     "output_type": "execute_result"
    }
   ],
   "source": [
    "# The coefficient of determination: 1 is perfect prediction\n",
    "print('Coefficient of determination <Valid>: ')\n",
    "\n",
    "print('Linear')\n",
    "r2_score(y_valid, btc_y_predict)"
   ]
  },
  {
   "cell_type": "code",
   "execution_count": 36,
   "metadata": {},
   "outputs": [
    {
     "name": "stdout",
     "output_type": "stream",
     "text": [
      "Poly1\n"
     ]
    },
    {
     "data": {
      "text/plain": [
       "0.9932259089438289"
      ]
     },
     "execution_count": 36,
     "metadata": {},
     "output_type": "execute_result"
    }
   ],
   "source": [
    "print('Poly1')\n",
    "r2_score(y_valid, prediction_valid_poly1)"
   ]
  },
  {
   "cell_type": "code",
   "execution_count": 37,
   "metadata": {},
   "outputs": [
    {
     "name": "stdout",
     "output_type": "stream",
     "text": [
      "Poly2\n"
     ]
    },
    {
     "data": {
      "text/plain": [
       "0.9701369517133717"
      ]
     },
     "execution_count": 37,
     "metadata": {},
     "output_type": "execute_result"
    }
   ],
   "source": [
    "print('Poly2')\n",
    "r2_score(y_valid, prediction_valid_poly2)"
   ]
  },
  {
   "cell_type": "code",
   "execution_count": 38,
   "metadata": {},
   "outputs": [
    {
     "name": "stdout",
     "output_type": "stream",
     "text": [
      "Poly3\n"
     ]
    },
    {
     "data": {
      "text/plain": [
       "-5.316141138586597"
      ]
     },
     "execution_count": 38,
     "metadata": {},
     "output_type": "execute_result"
    }
   ],
   "source": [
    "print('Poly3')\n",
    "r2_score(y_valid, prediction_valid_poly3)"
   ]
  },
  {
   "cell_type": "code",
   "execution_count": null,
   "metadata": {},
   "outputs": [],
   "source": []
  },
  {
   "cell_type": "code",
   "execution_count": 39,
   "metadata": {},
   "outputs": [],
   "source": [
    "# Experiment"
   ]
  },
  {
   "cell_type": "code",
   "execution_count": 40,
   "metadata": {},
   "outputs": [
    {
     "data": {
      "text/plain": [
       "array([7664.004  , 3786.2263 , 7607.037  , ..., 7475.395  ,  410.20145,\n",
       "        287.8288 ], dtype=float32)"
      ]
     },
     "execution_count": 40,
     "metadata": {},
     "output_type": "execute_result"
    }
   ],
   "source": [
    "btc_y_predict_training"
   ]
  },
  {
   "cell_type": "code",
   "execution_count": 41,
   "metadata": {},
   "outputs": [
    {
     "data": {
      "text/plain": [
       "array([6780.341 , 3812.381 , 7436.835 , ..., 7518.3335,  421.597 ,\n",
       "        304.3269], dtype=float32)"
      ]
     },
     "execution_count": 41,
     "metadata": {},
     "output_type": "execute_result"
    }
   ],
   "source": [
    "y_train"
   ]
  },
  {
   "cell_type": "code",
   "execution_count": null,
   "metadata": {},
   "outputs": [],
   "source": []
  },
  {
   "cell_type": "code",
   "execution_count": 42,
   "metadata": {},
   "outputs": [],
   "source": [
    "# Chosen model Linear Regression: according to lowest validation error"
   ]
  },
  {
   "cell_type": "code",
   "execution_count": 43,
   "metadata": {},
   "outputs": [],
   "source": [
    "# Test final performance of the chosen model on separate Test Set"
   ]
  },
  {
   "cell_type": "code",
   "execution_count": 44,
   "metadata": {},
   "outputs": [],
   "source": [
    "# MSE"
   ]
  },
  {
   "cell_type": "code",
   "execution_count": 45,
   "metadata": {},
   "outputs": [],
   "source": [
    "btc_y_predict_test = model_linear.predict(X_test)"
   ]
  },
  {
   "cell_type": "code",
   "execution_count": 46,
   "metadata": {},
   "outputs": [
    {
     "name": "stdout",
     "output_type": "stream",
     "text": [
      "Mean squared error <Test>: \n",
      "Linear\n"
     ]
    },
    {
     "data": {
      "text/plain": [
       "109240.445"
      ]
     },
     "execution_count": 46,
     "metadata": {},
     "output_type": "execute_result"
    }
   ],
   "source": [
    "print('Mean squared error <Test>: ')\n",
    "\n",
    "print('Linear')\n",
    "mean_squared_error(y_test, btc_y_predict_test)"
   ]
  },
  {
   "cell_type": "code",
   "execution_count": null,
   "metadata": {},
   "outputs": [],
   "source": []
  },
  {
   "cell_type": "code",
   "execution_count": 47,
   "metadata": {},
   "outputs": [],
   "source": [
    "# R2 Score"
   ]
  },
  {
   "cell_type": "code",
   "execution_count": 48,
   "metadata": {},
   "outputs": [
    {
     "name": "stdout",
     "output_type": "stream",
     "text": [
      "Coefficient of determination <Test>: \n",
      "Linear\n"
     ]
    },
    {
     "data": {
      "text/plain": [
       "0.996813471173821"
      ]
     },
     "execution_count": 48,
     "metadata": {},
     "output_type": "execute_result"
    }
   ],
   "source": [
    "# The coefficient of determination: 1 is perfect prediction\n",
    "print('Coefficient of determination <Test>: ')\n",
    "\n",
    "print('Linear')\n",
    "r2_score(y_test, btc_y_predict_test)"
   ]
  },
  {
   "cell_type": "code",
   "execution_count": null,
   "metadata": {},
   "outputs": [],
   "source": []
  }
 ],
 "metadata": {
  "kernelspec": {
   "display_name": "Python 3",
   "language": "python",
   "name": "python3"
  },
  "language_info": {
   "codemirror_mode": {
    "name": "ipython",
    "version": 3
   },
   "file_extension": ".py",
   "mimetype": "text/x-python",
   "name": "python",
   "nbconvert_exporter": "python",
   "pygments_lexer": "ipython3",
   "version": "3.8.6"
  },
  "varInspector": {
   "cols": {
    "lenName": 16,
    "lenType": 16,
    "lenVar": 40
   },
   "kernels_config": {
    "python": {
     "delete_cmd_postfix": "",
     "delete_cmd_prefix": "del ",
     "library": "var_list.py",
     "varRefreshCmd": "print(var_dic_list())"
    },
    "r": {
     "delete_cmd_postfix": ") ",
     "delete_cmd_prefix": "rm(",
     "library": "var_list.r",
     "varRefreshCmd": "cat(var_dic_list()) "
    }
   },
   "types_to_exclude": [
    "module",
    "function",
    "builtin_function_or_method",
    "instance",
    "_Feature"
   ],
   "window_display": false
  }
 },
 "nbformat": 4,
 "nbformat_minor": 4
}
